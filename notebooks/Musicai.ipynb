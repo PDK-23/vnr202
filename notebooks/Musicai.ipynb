{
 "cells": [
  {
   "cell_type": "markdown",
   "id": "70722c97",
   "metadata": {},
   "source": [
    "# Video tóm tắt nội dung\n",
    "\n",
    "Trang này chứa video tóm tắt nội dung liên quan đến dự án. Bạn có thể đặt file video MP4 vào một trong các đường dẫn sau trong repository để notebook có thể phát nó:\n",
    "\n",
    "- `src/assets/1939-1945.mp4`\n",
    "- `src/assets/video/summary.mp4`\n",
    "\n",
    "Kích thước khuyến nghị: 1280×720 hoặc 1920×1080."
   ]
  },
  {
   "cell_type": "markdown",
   "id": "1e88ddb9",
   "metadata": {},
   "source": [
    "Nếu video có sẵn, ô code bên dưới sẽ tìm và hiển thị video trong notebook. Nếu không tìm thấy, nó sẽ in ra các đường dẫn mà bạn cần đặt file."
   ]
  },
  {
   "cell_type": "code",
   "execution_count": null,
   "id": "79a2d4d8",
   "metadata": {},
   "outputs": [],
   "source": [
    "from IPython.display import Video, display\n",
    "import os\n",
    "\n",
    "# Các đường dẫn tương đối (từ thư mục notebooks/) mà notebook sẽ kiểm tra\n",
    "path_candidates = [\n",
    "    '../src/assets/1939-1945.mp4',\n",
    "    '../src/assets/video/summary.mp4',\n",
    "]\n",
    "\n",
    "video_path = None\n",
    "for p in path_candidates:\n",
    "    if os.path.exists(p):\n",
    "        video_path = p\n",
    "        break\n",
    "\n",
    "if video_path:\n",
    "    print('Found video at', video_path)\n",
    "    display(Video(video_path, embed=True, width=960))\n",
    "else:\n",
    "    print('No video file found. Place your MP4 at one of:')\n",
    "    for p in path_candidates:\n",
    "        print('  -', p)"
   ]
  }
 ],
 "metadata": {
  "language_info": {
   "name": "python"
  }
 },
 "nbformat": 4,
 "nbformat_minor": 5
}
